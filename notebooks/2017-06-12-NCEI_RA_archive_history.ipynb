{
 "cells": [
  {
   "cell_type": "markdown",
   "metadata": {
    "collapsed": true
   },
   "source": [
    "# Using NCEI geoportal REST API to collect information about IOOS Regional Association archived data\n",
    "\n",
    "### IOOS regional associations archive their non-federal observational data with NOAA's National Center for Environmental Information (NCEI). In this notebook we will use the [RESTful](https://github.com/Esri/geoportal-server/wiki/REST-API-Syntax) services of the [NCEI geoportal](https://www.ncei.noaa.gov/metadata/geoportal/#searchPanel) to collect metadata from the archive packages found in the NCEI archives. The metadata information are stored in [ISO 19115-2](https://wiki.earthdata.nasa.gov/display/NASAISO/ISO+19115-2) xml files which the NCEI geoportal uses for discovery of Archival Information Packages (AIPs). This example uses the ISO metadata records to display publication information as well as plot the time coverage of each AIP at NCEI which meets the search criteria.\n",
    "\n",
    "First we update the namespaces dictionary from owslib to include the appropriate namespace reference for gmi and gml. \n",
    "\n",
    "For more information on ISO Namespaces see:  https://geo-ide.noaa.gov/wiki/index.php?title=ISO_Namespaces"
   ]
  },
  {
   "cell_type": "code",
   "execution_count": 1,
   "metadata": {},
   "outputs": [],
   "source": [
    "from owslib.iso import namespaces\n",
    "\n",
    "# Append gmi namespace to namespaces dictionary.\n",
    "namespaces.update({\"gmi\": \"http://www.isotc211.org/2005/gmi\"})\n",
    "namespaces.update({\"gml\": \"http://www.opengis.net/gml/3.2\"})\n",
    "del namespaces[None]"
   ]
  },
  {
   "cell_type": "markdown",
   "metadata": {},
   "source": [
    "### Now we select a Regional Association and platform\n",
    "This is where the user identifies the Regional Association and the platform type they are interested in. Change the RA acronym to the RA of interest. The user can also omit the Regional Association, by using `None`, to collect metadata information about all IOOS non-Federal observation data archived through the NCEI-IOOS pipeline.\n",
    "\n",
    "The options for platform include: `\"HF Radar\"`, `\"Glider\"`, and `\"FIXED PLATFORM\"`. "
   ]
  },
  {
   "cell_type": "code",
   "execution_count": 2,
   "metadata": {},
   "outputs": [],
   "source": [
    "# Select RA, this will be the acronym for the RA or None if you want to search across all RAs\n",
    "ra = 'NERACOOS'\n",
    "\n",
    "# Identify the platform.\n",
    "platform = '\"FIXED PLATFORM\"' # Options include: \"HF Radar\", \"Glider\", \"FIXED PLATFORM\""
   ]
  },
  {
   "cell_type": "markdown",
   "metadata": {},
   "source": [
    "### Next we generate a geoportal query and georss feed\n",
    "To find more information about how to compile a geoportal query, have a look at [REST API Syntax](https://github.com/Esri/geoportal-server/wiki/REST-API-Syntax) and the [NCEI Search Tips](https://www.nodc.noaa.gov/search/granule/catalog/searchtips/searchtips.page) for the [NCEI geoportal](https://data.nodc.noaa.gov/geoportal/catalog/search/search.page). The example provided is specific to the NCEI-IOOS data pipeline project and only searches for non-federal timeseries data collected by each Regional Association. \n",
    "\n",
    "The query developed here can be updated to search for any Archival Information Packages at NCEI, therefore the user should develop the appropriate query using the [NCEI Geoportal](https://data.nodc.noaa.gov/geoportal/catalog/search/search.page) and update this portion of the code to identify the REST API of interest."
   ]
  },
  {
   "cell_type": "code",
   "execution_count": 3,
   "metadata": {},
   "outputs": [
    {
     "name": "stdout",
     "output_type": "stream",
     "text": [
      "Identified response format:\n",
      "https://www.ncei.noaa.gov/metadata/geoportal/opensearch?q=%28dataThemeinstitutions_s%3A%22Northeastern%20Regional%20Association%20of%20Coastal%20Ocean%20Observing%20System%22%20dataThemeprojects_s%3A%22Northeastern%20Regional%20Association%20of%20Coastal%20Ocean%20Observing%20System%20%28NERACOOS%29%22%29%20AND%22FIXED%20PLATFORM%22&filter=dataThemeprojects_s:%22Integrated%20Ocean%20Observing%20System%20Data%20Assembly%20Centers%20Data%20Stewardship%20Program%22&start=1&num=1010&f=csv\n",
      "\n",
      "Search page response:\n",
      "https://www.ncei.noaa.gov/metadata/geoportal/opensearch?q=%28dataThemeinstitutions_s%3A%22Northeastern%20Regional%20Association%20of%20Coastal%20Ocean%20Observing%20System%22%20dataThemeprojects_s%3A%22Northeastern%20Regional%20Association%20of%20Coastal%20Ocean%20Observing%20System%20%28NERACOOS%29%22%29%20AND%22FIXED%20PLATFORM%22&filter=dataThemeprojects_s:%22Integrated%20Ocean%20Observing%20System%20Data%20Assembly%20Centers%20Data%20Stewardship%20Program%22&start=1&num=1010&f=searchPage\n"
     ]
    }
   ],
   "source": [
    "try:\n",
    "    from urllib.parse import quote\n",
    "except ImportError:\n",
    "    from urllib import quote\n",
    "\n",
    "# Generate geoportal query and georss feed.\n",
    "\n",
    "# Base geoportal url.\n",
    "baseurl = \"https://www.ncei.noaa.gov/\" \"metadata/geoportal/opensearch\" \"?q=\"\n",
    "\n",
    "# Identify the Regional Association\n",
    "if ra is None:\n",
    "    reg_assoc = ''\n",
    "else:\n",
    "    RAs = {\n",
    "        \"AOOS\": \"Alaska Ocean Observing System\",\n",
    "        \"CARICOOS\": \"Caribbean Coastal Ocean Observing System\",\n",
    "        \"CeNCOOS\": \"Central and Northern California Coastal Ocean Observing System\",\n",
    "        \"GCOOS\": \"Gulf of Mexico Coastal Ocean Observing System\",\n",
    "        \"GLOS\": \"Great Lakes Observing System\",\n",
    "        \"MARACOOS\": \"Mid-Atlantic Regional Association Coastal Ocean Observing System\",\n",
    "        \"NANOOS\": \"Northwest Association of Networked Ocean Observing Systems\",\n",
    "        \"NERACOOS\": \"Northeastern Regional Association of Coastal Ocean Observing System\",\n",
    "        \"PacIOOS\": \"Pacific Islands Ocean Observing System\",\n",
    "        \"SCCOOS\": \"Southern California Coastal Ocean Observing System\",\n",
    "        \"SECOORA\": \"Southeast Coastal Ocean Observing Regional Association\",\n",
    "        }\n",
    "    reg_assoc = '(dataThemeinstitutions_s:\"%s\" dataThemeprojects_s:\"%s (%s)\") AND'%(RAs[ra], RAs[ra], ra)\n",
    "\n",
    "# Identify the project.\n",
    "project = '\"Integrated Ocean Observing System Data Assembly Centers Data Stewardship Program\"'\n",
    "\n",
    "# Identify the amount of records and format of the response: 1 to 1010 records.\n",
    "records = \"&start=1&num=1010\"\n",
    "\n",
    "# Identify the format of the response: georss.\n",
    "response_format = \"&f=csv\"\n",
    "\n",
    "# Combine the URL.\n",
    "url = \"{}{}{}{}\".format(baseurl , quote(reg_assoc + platform), '&filter=dataThemeprojects_s:', quote(project) + records + response_format)\n",
    "\n",
    "print(\"Identified response format:\\n{}\".format(url))\n",
    "print(\n",
    "    \"\\nSearch page response:\\n{}\".format(url.replace(response_format, \"&f=searchPage\"))\n",
    ")"
   ]
  },
  {
   "cell_type": "markdown",
   "metadata": {},
   "source": [
    "### Time to query the portal and parse out the csv response\n",
    "Here we are opening the specified REST API and parsing it into a string. Then, since we identified it as a csv format above, we parse it using the Pandas package. We also split the Data_Date_Range column into two columns, `data_start_date` and `data_end_date` to have that useful information available."
   ]
  },
  {
   "cell_type": "code",
   "execution_count": 4,
   "metadata": {},
   "outputs": [
    {
     "data": {
      "text/html": [
       "<div>\n",
       "<style scoped>\n",
       "    .dataframe tbody tr th:only-of-type {\n",
       "        vertical-align: middle;\n",
       "    }\n",
       "\n",
       "    .dataframe tbody tr th {\n",
       "        vertical-align: top;\n",
       "    }\n",
       "\n",
       "    .dataframe thead th {\n",
       "        text-align: right;\n",
       "    }\n",
       "</style>\n",
       "<table border=\"1\" class=\"dataframe\">\n",
       "  <thead>\n",
       "    <tr style=\"text-align: right;\">\n",
       "      <th></th>\n",
       "      <th>Id</th>\n",
       "      <th>Title</th>\n",
       "      <th>Description</th>\n",
       "      <th>West</th>\n",
       "      <th>South</th>\n",
       "      <th>East</th>\n",
       "      <th>North</th>\n",
       "      <th>Link_Xml</th>\n",
       "      <th>Link_1</th>\n",
       "      <th>Link_2</th>\n",
       "      <th>Link_3</th>\n",
       "      <th>Link_4</th>\n",
       "      <th>Data_Date_Range</th>\n",
       "      <th>Date_Published</th>\n",
       "      <th>data_start_date</th>\n",
       "      <th>data_end_date</th>\n",
       "    </tr>\n",
       "  </thead>\n",
       "  <tbody>\n",
       "    <tr>\n",
       "      <th>0</th>\n",
       "      <td>gov.noaa.nodc:0163363</td>\n",
       "      <td>Oceanographic and surface meteorological data ...</td>\n",
       "      <td>NaN</td>\n",
       "      <td>-70.5655</td>\n",
       "      <td>42.5183</td>\n",
       "      <td>-70.5655</td>\n",
       "      <td>42.5183</td>\n",
       "      <td>http://www.ncei.noaa.gov/metadata/geoportal/re...</td>\n",
       "      <td>NaN</td>\n",
       "      <td>NaN</td>\n",
       "      <td>NaN</td>\n",
       "      <td>NaN</td>\n",
       "      <td>2001-07-10T00:00:00Z to 2002-03-08T23:59:59.999Z</td>\n",
       "      <td>2017-06-14T00:00:00Z</td>\n",
       "      <td>2001-07-10 00:00:00+00:00</td>\n",
       "      <td>2002-03-09 00:00:00+00:00</td>\n",
       "    </tr>\n",
       "  </tbody>\n",
       "</table>\n",
       "</div>"
      ],
      "text/plain": [
       "                      Id                                              Title  \\\n",
       "0  gov.noaa.nodc:0163363  Oceanographic and surface meteorological data ...   \n",
       "\n",
       "   Description     West    South     East    North  \\\n",
       "0          NaN -70.5655  42.5183 -70.5655  42.5183   \n",
       "\n",
       "                                            Link_Xml  Link_1  Link_2  Link_3  \\\n",
       "0  http://www.ncei.noaa.gov/metadata/geoportal/re...     NaN     NaN     NaN   \n",
       "\n",
       "   Link_4                                   Data_Date_Range  \\\n",
       "0     NaN  2001-07-10T00:00:00Z to 2002-03-08T23:59:59.999Z   \n",
       "\n",
       "         Date_Published           data_start_date             data_end_date  \n",
       "0  2017-06-14T00:00:00Z 2001-07-10 00:00:00+00:00 2002-03-09 00:00:00+00:00  "
      ]
     },
     "execution_count": 4,
     "metadata": {},
     "output_type": "execute_result"
    }
   ],
   "source": [
    "import pandas as pd\n",
    "import numpy as np\n",
    "\n",
    "df = pd.read_csv(url)\n",
    "\n",
    "df[['data_start_date','data_end_date']] = df['Data_Date_Range'].str.split(' to ',expand=True)\n",
    "df['data_start_date'] = pd.to_datetime(df['data_start_date'])\n",
    "df['data_end_date'] = pd.to_datetime(df['data_end_date']) + pd.Timedelta(np.timedelta64(1, \"ms\")) \n",
    "\n",
    "df.head()"
   ]
  },
  {
   "cell_type": "markdown",
   "metadata": {},
   "source": [
    "Now, lets pull out all the ISO metadata record links and print them out so the user can browse to the metadata record and look for what items they might be interested in."
   ]
  },
  {
   "cell_type": "code",
   "execution_count": 11,
   "metadata": {},
   "outputs": [
    {
     "name": "stdout",
     "output_type": "stream",
     "text": [
      "Found 1 record(s)\n",
      "ISO19115-2 record: http://www.ncei.noaa.gov/metadata/geoportal/rest/metadata/item/gov.noaa.nodc%3A0163363/xml\n",
      "NCEI dataset metadata page: https://www.ncei.noaa.gov/access/metadata/landing-page/bin/iso?id=gov.noaa.nodc:0163363\n",
      "\n",
      "\n"
     ]
    }
   ],
   "source": [
    "# parse the csv response\n",
    "\n",
    "print(\"Found %i record(s)\" % len(df))\n",
    "for index, row in df.iterrows():\n",
    "    print('ISO19115-2 record:',row['Link_Xml'])  # URL to ISO19115-2 record.\n",
    "    print('NCEI dataset metadata page: https://www.ncei.noaa.gov/access/metadata/landing-page/bin/iso?id=' + row['Id'] )\n",
    "    print('\\n')"
   ]
  },
  {
   "cell_type": "markdown",
   "metadata": {},
   "source": [
    "### Lets collect what we have found\n",
    "Now that we have all the ISO metadata records we are interested in, it's time to do something fun with them. In this example we want to generate a timeseries plot of the data coverage for the \"Southern California Coastal Ocean Observing System\" stations we have archived at NCEI.\n",
    "\n",
    "First we need to collect some information. We loop through each iso record to collect metadata information about each package. The example here shows how to collect the following items:\n",
    "   1. NCEI Archival Information Package (AIP) Accession ID (7-digit Accession Number) \n",
    "   2. The first date the archive package was published.\n",
    "   3. The platform code identified from the provider.\n",
    "   4. The version number and date it was published.\n",
    "   5. The current AIP size, in MB.\n",
    "\n",
    "There are plenty of other metadata elements to collect from the ISO records, so we recommend browsing to one of the records and having a look at the items of interest to your community."
   ]
  },
  {
   "cell_type": "code",
   "execution_count": 6,
   "metadata": {
    "scrolled": false
   },
   "outputs": [
    {
     "name": "stdout",
     "output_type": "stream",
     "text": [
      "\n",
      "First published date = 2017-06-14\n",
      "Accession: 0163363\n",
      "Submitter: Northeastern Regional Association of Coastal Ocean Observing System\n",
      "Provider Platform Code = A01\n",
      "v1.1 = 2017-06-14 15:25:14+00:00\n",
      "v2.2 = 2017-07-07 10:36:07+00:00\n",
      "Current AIP Size = 7.532 MB\n"
     ]
    }
   ],
   "source": [
    "# Process each iso record.\n",
    "%matplotlib inline\n",
    "\n",
    "from datetime import datetime\n",
    "import xml.etree.ElementTree as ET\n",
    "from owslib import util\n",
    "from urllib.request import urlopen\n",
    "\n",
    "\n",
    "df[['provider_platform_name','NCEI_accession_number','package_size_mb','submitter']] = ''\n",
    "\n",
    "# For each accession in response.\n",
    "for url in df['Link_Xml']:\n",
    "\n",
    "    iso = urlopen(url)\n",
    "    iso_tree = ET.parse(iso)\n",
    "    root = iso_tree.getroot()\n",
    "\n",
    "    vers_dict = dict()\n",
    "    \n",
    "    # Collect Publication date information.\n",
    "    date_path = (\n",
    "        \".//\"\n",
    "        \"gmd:identificationInfo/\"\n",
    "        \"gmd:MD_DataIdentification/\"\n",
    "        \"gmd:citation/\"\n",
    "        \"gmd:CI_Citation/\"\n",
    "        \"gmd:date/\"\n",
    "        \"gmd:CI_Date/\"\n",
    "        \"gmd:date/gco:Date\"\n",
    "    )\n",
    "    # First published date.\n",
    "    pubdate = root.find(date_path, namespaces)\n",
    "    print(\"\\nFirst published date = %s\" % util.testXMLValue(pubdate))\n",
    "\n",
    "    # Collect keyword terms of interest.\n",
    "    for MD_keywords in root.iterfind('.//gmd:descriptiveKeywords/gmd:MD_Keywords', namespaces):\n",
    "\n",
    "        for thesaurus_name in MD_keywords.iterfind('.//gmd:thesaurusName/gmd:CI_Citation/gmd:title/gco:CharacterString', namespaces):\n",
    "            \n",
    "            if thesaurus_name.text == \"Provider Platform Names\":\n",
    "\n",
    "                plat_name = MD_keywords.find('.//gmd:keyword/gco:CharacterString', namespaces).text\n",
    "                print(\"Provider Platform Code = %s\" % plat_name)\n",
    "                df.loc[df.Link_Xml == url, ['provider_platform_name']] = plat_name\n",
    "                break\n",
    "                \n",
    "            elif thesaurus_name.text == \"NCEI ACCESSION NUMBER\":\n",
    "                acce_no = MD_keywords.find('.//gmd:keyword/gmx:Anchor', namespaces).text\n",
    "                print(\"Accession:\",acce_no)\n",
    "                df.loc[df.Link_Xml == url, ['NCEI_accession_number']] = acce_no\n",
    "                break\n",
    "            \n",
    "            elif thesaurus_name.text == \"NODC SUBMITTING INSTITUTION NAMES THESAURUS\":\n",
    "                submitter = MD_keywords.find('.//gmd:keyword/gmx:Anchor', namespaces).text\n",
    "                print(\"Submitter:\", submitter)\n",
    "                df.loc[df.Link_Xml == url, ['submitter']] = submitter\n",
    "            \n",
    "    # Pull out the version information.\n",
    "    # Iterate through each processing step which is an NCEI version.\n",
    "    for process_step in root.iterfind(\".//gmd:processStep\", namespaces):\n",
    "        # Only parse gco:DateTime and gmd:title/gco:CharacterString.\n",
    "        vers_title = (\n",
    "            \".//\"\n",
    "            \"gmi:LE_ProcessStep/\"\n",
    "            \"gmi:output/\"\n",
    "            \"gmi:LE_Source/\"\n",
    "            \"gmd:sourceCitation/\"\n",
    "            \"gmd:CI_Citation/\"\n",
    "            \"gmd:title/\"\n",
    "            \"gco:CharacterString\"\n",
    "        )\n",
    "        vers_date = (\n",
    "            \".//\" \n",
    "            \"gmi:LE_ProcessStep/\" \n",
    "            \"gmd:dateTime/\"\n",
    "            \"gco:DateTime\"\n",
    "        )\n",
    "        if process_step.findall(vers_date, namespaces) and process_step.findall(vers_title, namespaces):\n",
    "            # Extract dateTime for each version.\n",
    "            datetime = pd.to_datetime(process_step.find(vers_date, namespaces).text)\n",
    "            \n",
    "            # Extract version number.\n",
    "            version = process_step.find(vers_title, namespaces).text.split(\" \")[-1]\n",
    "            print(\n",
    "                \"{} = {}\".format(\n",
    "                    version, datetime\n",
    "                )\n",
    "            )\n",
    "            vers_dict[version] = datetime\n",
    "            df.loc[df.Link_Xml == url, ['version_info']] = [vers_dict]\n",
    "    \n",
    "    # Collect package size information.\n",
    "    # Iterate through transfer size nodes.\n",
    "    for trans_size in root.iterfind(\".//gmd:transferSize\", namespaces):\n",
    "\n",
    "        if trans_size.find(\".//gco:Real\", namespaces).text:\n",
    "            \n",
    "            sizes = trans_size.find(\".//gco:Real\", namespaces).text\n",
    "            print(\"Current AIP Size = %s MB\" % sizes)\n",
    "                \n",
    "            df.loc[df.Link_Xml == url, ['package_size_mb']] = float(sizes)\n",
    "            break\n",
    "\n",
    "        break\n",
    "    "
   ]
  },
  {
   "cell_type": "markdown",
   "metadata": {
    "collapsed": true
   },
   "source": [
    "### Create a timeseries plot of data coverage\n",
    "Now that we have a DataFrame with all the information we're interested in, lets make a time coverage plot for all the AIP's at NCEI."
   ]
  },
  {
   "cell_type": "code",
   "execution_count": 7,
   "metadata": {},
   "outputs": [
    {
     "data": {
      "image/png": "[encoded data removed]",
      "text/plain": [
       "<Figure size 1080x864 with 1 Axes>"
      ]
     },
     "metadata": {
      "needs_background": "light"
     },
     "output_type": "display_data"
    }
   ],
   "source": [
    "import matplotlib.dates as mdates\n",
    "import matplotlib.pyplot as plt\n",
    "    \n",
    "ypos = range(len(df))\n",
    "fig, ax = plt.subplots(figsize=(15, 12))\n",
    "\n",
    "# Plot the data\n",
    "ax.barh(ypos, mdates.date2num(df['data_end_date']) - mdates.date2num(df['data_start_date']), \n",
    "        left = mdates.date2num(df['data_start_date']), \n",
    "        height = 0.5, \n",
    "        align = 'center')\n",
    "\n",
    "xlim = ( mdates.date2num(df['data_start_date'].min() - pd.Timedelta(np.timedelta64(1, \"M\"))),\n",
    "         mdates.date2num(df['data_end_date'].max() + pd.Timedelta(np.timedelta64(1, \"M\"))) )\n",
    "\n",
    "ax.set_xlim(xlim)\n",
    "ax.set(yticks = np.arange(0, len(df)))\n",
    "ax.tick_params(which=\"both\", direction=\"out\")\n",
    "ax.set_ylabel(\"NCEI Accession Number\")\n",
    "ax.set_yticklabels(df['NCEI_accession_number'])\n",
    "ax.set_title('NCEI archive package time coverage')\n",
    "\n",
    "ax.xaxis_date()\n",
    "ax.set_xlabel('Date')\n",
    "\n",
    "plt.grid(axis='x', linestyle='--')\n",
    "\n",
    "plt.show()"
   ]
  },
  {
   "cell_type": "markdown",
   "metadata": {},
   "source": [
    "This procedure has been developed as an example of how to use NCEI's geoportal REST API's to collect information about packages that have been archived at NCEI. The intention is to provide some guidance and ways to collect this information without having to request it directly from NCEI. There are a significant amount of metadata elements which NCEI makes available through their ISO metadata records. Therefore, anyone interested in collecting other information from the records at NCEI should have a look at the ISO metadata records and determine which items are of interest to their community. Then, update the example code provided to collect that information."
   ]
  },
  {
   "cell_type": "markdown",
   "metadata": {},
   "source": [
    "**Author:** Mathew Biddle"
   ]
  }
 ],
 "metadata": {
  "anaconda-cloud": {},
  "celltoolbar": "Raw Cell Format",
  "kernelspec": {
   "display_name": "Python 3",
   "language": "python",
   "name": "python3"
  },
  "language_info": {
   "codemirror_mode": {
    "name": "ipython",
    "version": 3
   },
   "file_extension": ".py",
   "mimetype": "text/x-python",
   "name": "python",
   "nbconvert_exporter": "python",
   "pygments_lexer": "ipython3",
   "version": "3.9.1"
  }
 },
 "nbformat": 4,
 "nbformat_minor": 1
}
