{
  "nbformat": 4,
  "nbformat_minor": 0,
  "metadata": {
    "kernelspec": {
      "display_name": "Python 3",
      "language": "python",
      "name": "python3"
    },
    "language_info": {
      "codemirror_mode": {
        "name": "ipython",
        "version": 3
      },
      "file_extension": ".py",
      "mimetype": "text/x-python",
      "name": "python",
      "nbconvert_exporter": "python",
      "pygments_lexer": "ipython3",
      "version": "3.8.5"
    },
    "widgets": {
      "application/vnd.jupyter.widget-state+json": {
        "97dd2e8f963a4de8bfe42eb4728841e2": {
          "model_module": "@jupyter-widgets/controls",
          "model_name": "DatePickerModel",
          "state": {
            "_view_name": "DatePickerView",
            "style": "IPY_MODEL_311ea01509944416be80554b2b0a29cb",
            "_dom_classes": [],
            "description": "Start Date",
            "_model_name": "DatePickerModel",
            "_view_module": "@jupyter-widgets/controls",
            "_model_module_version": "1.5.0",
            "value": {
              "year": 2021,
              "month": 0,
              "date": 1
            },
            "_view_count": null,
            "disabled": false,
            "_view_module_version": "1.5.0",
            "description_tooltip": null,
            "_model_module": "@jupyter-widgets/controls",
            "layout": "IPY_MODEL_240e10248b39428dbca4a67a9e6651f2"
          }
        },
        "311ea01509944416be80554b2b0a29cb": {
          "model_module": "@jupyter-widgets/controls",
          "model_name": "DescriptionStyleModel",
          "state": {
            "_view_name": "StyleView",
            "_model_name": "DescriptionStyleModel",
            "description_width": "",
            "_view_module": "@jupyter-widgets/base",
            "_model_module_version": "1.5.0",
            "_view_count": null,
            "_view_module_version": "1.2.0",
            "_model_module": "@jupyter-widgets/controls"
          }
        },
        "240e10248b39428dbca4a67a9e6651f2": {
          "model_module": "@jupyter-widgets/base",
          "model_name": "LayoutModel",
          "state": {
            "_view_name": "LayoutView",
            "grid_template_rows": null,
            "right": null,
            "justify_content": null,
            "_view_module": "@jupyter-widgets/base",
            "overflow": null,
            "_model_module_version": "1.2.0",
            "_view_count": null,
            "flex_flow": null,
            "width": null,
            "min_width": null,
            "border": null,
            "align_items": null,
            "bottom": null,
            "_model_module": "@jupyter-widgets/base",
            "top": null,
            "grid_column": null,
            "overflow_y": null,
            "overflow_x": null,
            "grid_auto_flow": null,
            "grid_area": null,
            "grid_template_columns": null,
            "flex": null,
            "_model_name": "LayoutModel",
            "justify_items": null,
            "grid_row": null,
            "max_height": null,
            "align_content": null,
            "visibility": null,
            "align_self": null,
            "height": null,
            "min_height": null,
            "padding": null,
            "grid_auto_rows": null,
            "grid_gap": null,
            "max_width": null,
            "order": null,
            "_view_module_version": "1.2.0",
            "grid_template_areas": null,
            "object_position": null,
            "object_fit": null,
            "grid_auto_columns": null,
            "margin": null,
            "display": null,
            "left": null
          }
        },
        "5d1ed2a92b384e34a3ce0eb942d033cb": {
          "model_module": "@jupyter-widgets/controls",
          "model_name": "DatePickerModel",
          "state": {
            "_view_name": "DatePickerView",
            "style": "IPY_MODEL_2925c32b28014ed8bc26d841dfa624f5",
            "_dom_classes": [],
            "description": "End Date",
            "_model_name": "DatePickerModel",
            "_view_module": "@jupyter-widgets/controls",
            "_model_module_version": "1.5.0",
            "value": {
              "year": 2021,
              "month": 2,
              "date": 31
            },
            "_view_count": null,
            "disabled": false,
            "_view_module_version": "1.5.0",
            "description_tooltip": null,
            "_model_module": "@jupyter-widgets/controls",
            "layout": "IPY_MODEL_1d473d265d214049911179e90b525f58"
          }
        },
        "2925c32b28014ed8bc26d841dfa624f5": {
          "model_module": "@jupyter-widgets/controls",
          "model_name": "DescriptionStyleModel",
          "state": {
            "_view_name": "StyleView",
            "_model_name": "DescriptionStyleModel",
            "description_width": "",
            "_view_module": "@jupyter-widgets/base",
            "_model_module_version": "1.5.0",
            "_view_count": null,
            "_view_module_version": "1.2.0",
            "_model_module": "@jupyter-widgets/controls"
          }
        },
        "1d473d265d214049911179e90b525f58": {
          "model_module": "@jupyter-widgets/base",
          "model_name": "LayoutModel",
          "state": {
            "_view_name": "LayoutView",
            "grid_template_rows": null,
            "right": null,
            "justify_content": null,
            "_view_module": "@jupyter-widgets/base",
            "overflow": null,
            "_model_module_version": "1.2.0",
            "_view_count": null,
            "flex_flow": null,
            "width": null,
            "min_width": null,
            "border": null,
            "align_items": null,
            "bottom": null,
            "_model_module": "@jupyter-widgets/base",
            "top": null,
            "grid_column": null,
            "overflow_y": null,
            "overflow_x": null,
            "grid_auto_flow": null,
            "grid_area": null,
            "grid_template_columns": null,
            "flex": null,
            "_model_name": "LayoutModel",
            "justify_items": null,
            "grid_row": null,
            "max_height": null,
            "align_content": null,
            "visibility": null,
            "align_self": null,
            "height": null,
            "min_height": null,
            "padding": null,
            "grid_auto_rows": null,
            "grid_gap": null,
            "max_width": null,
            "order": null,
            "_view_module_version": "1.2.0",
            "grid_template_areas": null,
            "object_position": null,
            "object_fit": null,
            "grid_auto_columns": null,
            "margin": null,
            "display": null,
            "left": null
          }
        },
        "4d3aa37e54294878bd49e1c1ed36f191": {
          "model_module": "jupyter-leaflet",
          "model_name": "LeafletMapModel",
          "state": {
            "_view_name": "LeafletMapView",
            "keyboard_pan_offset": 80,
            "right": 0,
            "tap": true,
            "_view_module": "jupyter-leaflet",
            "max_zoom": 18,
            "_model_module_version": "^0.13.5",
            "_view_count": null,
            "zoom_snap": 1,
            "min_zoom": 1,
            "bounce_at_zoom_limits": true,
            "keyboard": true,
            "north": 0,
            "scroll_wheel_zoom": false,
            "dragging": true,
            "_model_module": "jupyter-leaflet",
            "zoom_delta": 1,
            "close_popup_on_click": true,
            "fullscreen": false,
            "style": "IPY_MODEL_a186af2c6a7a4b2a8c84a45bdc692d6a",
            "layout": "IPY_MODEL_2ac3868f37af48f997c9e1b3e1e9cdf8",
            "bottom": 0,
            "inertia_max_speed": 1500,
            "top": 9007199254740991,
            "box_zoom": true,
            "controls": [
              "IPY_MODEL_b184d122fa694b68b587b78a6c2bac00",
              "IPY_MODEL_5e92c5caac3b496e9ea99ae1cdb0471f",
              "IPY_MODEL_1505fe2e6a2d4bd89759dc6b19069cb5",
              "IPY_MODEL_9da2b903b8f94b208e3710fd9c8f9f61"
            ],
            "default_style": "IPY_MODEL_bc35f1e5d7fb4b0fb09bf2f473ed2f7f",
            "east": 0,
            "double_click_zoom": true,
            "interpolation": "bilinear",
            "layers": [
              "IPY_MODEL_9678bcf777b64ad19e793f8ba3b6e3bf",
              "IPY_MODEL_3fcb38f573fd4b06866cb029883b0655",
              "IPY_MODEL_bc92f2fe84ba452e914ab269644402b0",
              "IPY_MODEL_10e41c4405e54c5aa01099b78ae72a01",
              "IPY_MODEL_564437a9a0fd40049bc3547e4b323e3e",
              "IPY_MODEL_9bf8b923c20d4eaa97adaef4097cb76e",
              "IPY_MODEL_4be84d40bd5640659df2f315a91b117f",
              "IPY_MODEL_fb5d9a9a706b4cfbb57f5f38cf276e1c",
              "IPY_MODEL_fb2ec0ac84a24fcb96f4e994be7da302",
              "IPY_MODEL_3df0c192bfd04a59976618471d796d07",
              "IPY_MODEL_3736583dd5454cb090e0db591877cb61",
              "IPY_MODEL_a95e543f4c5e463886e163e023956b07",
              "IPY_MODEL_2055694b36124a9ab3407e68fe65f030",
              "IPY_MODEL_6ff5336f10104cecb924e54c31f27fdf",
              "IPY_MODEL_05ee993cd00148e0ac9a84f790a4a4c7",
              "IPY_MODEL_8f7d3ffef3614a46bb0a5d6c87927575",
              "IPY_MODEL_4da6696d4f4149a6b967d4556a10986a",
              "IPY_MODEL_1e78585f135a45629a1d76ed1868626e",
              "IPY_MODEL_77075c486f3b4c0890ab551f477f7ae3",
              "IPY_MODEL_8422d62762454f70aa8576202d24f791",
              "IPY_MODEL_4d54d58bad4f4db6a7b9f852872310f2",
              "IPY_MODEL_0e50abd42f764a4293ff0012544c8cbc",
              "IPY_MODEL_5f675975f27b4272b2a62dc40042dd6d",
              "IPY_MODEL_29c30a4ee1444744946d1edc0f4363aa",
              "IPY_MODEL_a5edd3ab36a641df8cb165becebd6f6f",
              "IPY_MODEL_163db52f0df5456e936db71a8fd30693",
              "IPY_MODEL_7d1f3cecb46d495fb028cea5acc423e4",
              "IPY_MODEL_86fc1dec7a044426ad709ed324c846fa",
              "IPY_MODEL_768773217bbd4e348f17f13bff70e679",
              "IPY_MODEL_7ee4ee1931ae4e168c370aafe0cd597b",
              "IPY_MODEL_906263267fe14fcc99e5c93418d72591",
              "IPY_MODEL_1df391ea32ee4aa3bbd91f57a905b45f",
              "IPY_MODEL_0b54ab0d10154dcd8a9c407092657164",
              "IPY_MODEL_536adcfe42e049cd97ea2e8b43898fc2",
              "IPY_MODEL_15a981b1afca4c20aceb75d709f3bf2c",
              "IPY_MODEL_4232c88cff5f4939bb4c75190a0c132d",
              "IPY_MODEL_fa335f80ffac4b95aa612de635b79b21",
              "IPY_MODEL_2ed7bb0fe40647a49248a8879ebc2f5b",
              "IPY_MODEL_27116aa4a51f4f6ab2244696204b69b1",
              "IPY_MODEL_3fbbdecf72bc48ec9d6762dae233b78f",
              "IPY_MODEL_0390007cb67b4a489f1c096dad4556f9",
              "IPY_MODEL_c31284159d75404e89ac91cde3bb6d02",
              "IPY_MODEL_b41f5e08affd41e1b5c3f9c94dfb3609",
              "IPY_MODEL_a063fce33db84db7968d658c0757d356",
              "IPY_MODEL_a8755f94897044c090e19071e9e35675",
              "IPY_MODEL_ee55f9e4b67f4ab9b486326d80e9be2a",
              "IPY_MODEL_db3ca33ceb8e4e85a5a443863608ca08",
              "IPY_MODEL_7a3cde3dd83a4b9eb9a8d92696b3478c",
              "IPY_MODEL_b3c7830ce0d14759aae61a4770cb6bd1",
              "IPY_MODEL_e8f0f0ad51234b6bb25e54a82d12305e",
              "IPY_MODEL_5cd8d448fbb04403a638b48d6067fdce",
              "IPY_MODEL_ee824012e4e84e3bbada402b5081092d",
              "IPY_MODEL_3393ec850f884a3da61eca2efb13745e",
              "IPY_MODEL_8e8a614a56c540e798090b49dd293f26",
              "IPY_MODEL_ab7a20df9f944d768a9472f78f4d8799",
              "IPY_MODEL_c26db0f25a154e55a461fb5c3b3740e8",
              "IPY_MODEL_ce9b73899e674ed6a43c61dc0cf6439a",
              "IPY_MODEL_ac0ba456947a4c49aee0130b404e11ad",
              "IPY_MODEL_43e9cc5dd2754b758a5427ac47c53621",
              "IPY_MODEL_6d8150eeeb2d4d0698b997b30dee8934",
              "IPY_MODEL_ed6e10070d8b4abfa11aef66597c1230",
              "IPY_MODEL_5ec32b6170cf4b0db574a2341b70d7f2",
              "IPY_MODEL_629760fc61ff47c6b16e8cd932cacfdb",
              "IPY_MODEL_285115f0370448d08e942b3c105a3167",
              "IPY_MODEL_ab58f5cae2824709a2a4090248ad6ed9",
              "IPY_MODEL_d3f4f4d6efcc4af2811d1cd9f5bdf9b7",
              "IPY_MODEL_27434f307a894fd9b235f491a7e44a8d",
              "IPY_MODEL_ea324ad77628497c92a112400d832f9a",
              "IPY_MODEL_9bee1c236aff4ad5923ff37770baabfd",
              "IPY_MODEL_41589e91d28d487680b65724533589a5",
              "IPY_MODEL_54e973b64fc64e728f6ec11699645f46",
              "IPY_MODEL_ff337d3ec7b14e6ab505bbdb5f745bcd",
              "IPY_MODEL_5729892875b741be98463bab913ea600",
              "IPY_MODEL_db343c4b99ab488595f68d4982a951c3",
              "IPY_MODEL_edc581b9d1a942a885d56baaea45bc99",
              "IPY_MODEL_62951e1e4cb5422d8c092f577ae8ef74",
              "IPY_MODEL_d4d06cfcb69f42a193b20f398320e03e",
              "IPY_MODEL_d5bf395493214f7886ae77a6b1b23311",
              "IPY_MODEL_429f829450a8434b801eae591025f64b",
              "IPY_MODEL_e02418dae0074519ba904d09e82f5809",
              "IPY_MODEL_dbe91de42a0d42fcbfcfdfbd24cc8a6d",
              "IPY_MODEL_bcf755c7226e46388749a50f27f30705",
              "IPY_MODEL_95a34bbe23014742802b0be2fe5acd57",
              "IPY_MODEL_ea2be50c1b014bb28ff4a80417707095",
              "IPY_MODEL_ce6a21d5655f43fbb3da4260f84a723b",
              "IPY_MODEL_f9f9271636d24f6b92b9d576e1d8cb2d",
              "IPY_MODEL_e5b662264d254951940f15695a15f5bc",
              "IPY_MODEL_06cf8b9e50904123a26ac930b2a5d173",
              "IPY_MODEL_efd6090508714117ab9dc0d05de846fd",
              "IPY_MODEL_de4180138bd746139d57782158513639",
              "IPY_MODEL_4c07a37bf4664268baa53f2733ab02e9",
              "IPY_MODEL_e003503441e24786bc70e754e471d4f6",
              "IPY_MODEL_7a11708a1dac49e2892ceb5c7b1aeec0",
              "IPY_MODEL_9dd704ea35ef4353a88f4f932ec0c783",
              "IPY_MODEL_e6833099c9fa48a3a4ac4a07eea1aa5e",
              "IPY_MODEL_e0ce9c74d7c940fe851f2763ce3bde02",
              "IPY_MODEL_ff4c055fb99c44fab84cfe4ca2fe7a1f",
              "IPY_MODEL_f8c1b2ab4bf747ed889e49c649e76a07",
              "IPY_MODEL_dd4ece013efd4c7e881a39f08cf62013",
              "IPY_MODEL_ab558c1af3614eed826d6b72653a12d6",
              "IPY_MODEL_c845834a0084482ea035e53d15d75718",
              "IPY_MODEL_2c7223b9a3c54070bc58ee7e9400a436",
              "IPY_MODEL_f649d220fdd74dbda21e0b2bdc43022b",
              "IPY_MODEL_737bd0b46842439e8675bfb656a1dee7",
              "IPY_MODEL_05ddd247c9714dec8582ebd548bfa726",
              "IPY_MODEL_e3d10591d6384b9a9824b1b510054ec7",
              "IPY_MODEL_11390f55ccb842259e998830b730a0fe",
              "IPY_MODEL_9aaa261d7547458ea6e018921edae30c",
              "IPY_MODEL_4eb1d5ab399742e883fe573fc2eb3d6e",
              "IPY_MODEL_3a383412623e4a578ef8800ea85d10ea",
              "IPY_MODEL_c0ce3ef758f84d93bbccaaa97fbd47d9",
              "IPY_MODEL_12ef998527d94632b84fe45efd0bed0b",
              "IPY_MODEL_89a8dff5d17949d7b0e5a686e00a9c0a",
              "IPY_MODEL_3b94214c1c404c5dace4b45d7d9fc32c",
              "IPY_MODEL_76186ff0fd3e4445ae99cf930b394493",
              "IPY_MODEL_f8493c22608a4a828251ad167cf88133"
            ],
            "dragging_style": "IPY_MODEL_0c747b96b56b40dcbe904fbff7d5f382",
            "_dom_classes": [],
            "zoom_animation_threshold": 4,
            "_model_name": "LeafletMapModel",
            "zoom_start": 12,
            "modisdate": "yesterday",
            "keyboard_zoom_offset": 1,
            "inertia_deceleration": 3000,
            "inertia": true,
            "crs": {
              "name": "EPSG3857",
              "custom": false
            },
            "center": [
              35,
              -95
            ],
            "zoom": 4,
            "world_copy_jump": false,
            "_view_module_version": "^0.13.5",
            "window_url": "",
            "tap_tolerance": 15,
            "west": 0,
            "touch_zoom": true,
            "options": [
              "bounce_at_zoom_limits",
              "box_zoom",
              "center",
              "close_popup_on_click",
              "double_click_zoom",
              "dragging",
              "fullscreen",
              "inertia",
              "inertia_deceleration",
              "inertia_max_speed",
              "interpolation",
              "keyboard",
              "keyboard_pan_offset",
              "keyboard_zoom_offset",
              "max_zoom",
              "min_zoom",
              "scroll_wheel_zoom",
              "tap",
              "tap_tolerance",
              "touch_zoom",
              "world_copy_jump",
              "zoom",
              "zoom_animation_threshold",
              "zoom_delta",
              "zoom_snap",
              "zoom_start"
            ],
            "south": 0,
            "left": 9007199254740991
          }
        }
      }
    },
    "colab": {
      "name": "2020-10-10-GTS.ipynb",
      "provenance": [],
      "include_colab_link": true
    }
  },
  "cells": [
    {
      "cell_type": "markdown",
      "metadata": {
        "id": "view-in-github",
        "colab_type": "text"
      },
      "source": [
        "<a href=\"https://colab.research.google.com/github/MathewBiddle/notebooks_demos/blob/GTS_widgets/notebooks/2020-10-10-GTS.ipynb\" target=\"_parent\"><img src=\"https://colab.research.google.com/assets/colab-badge.svg\" alt=\"Open In Colab\"/></a>"
      ]
    },
    {
      "cell_type": "markdown",
      "metadata": {
        "id": "Po0C-dJCrtWM"
      },
      "source": [
        "# IOOS GTS Statistics\n",
        "\n",
        "\n",
        "The Global Telecommunication System (GTS) is a coordinated effort for rapid distribution of observations.\n",
        "The GTS monthly reports show the number of messages released to GTS for each station.\n",
        "The reports contain the following fields:\n",
        "\n",
        "- location ID: Identifier that station messages are released under to the GTS;\n",
        "- region: Designated IOOS Regional Association (only for IOOS regional report);\n",
        "- sponsor: Organization that owns and maintains the station;\n",
        "- Met: Total number of met messages released to the GTS\n",
        "- Wave: Total number of wave messages released to the GTS\n",
        "\n",
        "In this notebook we will explore the statistics of the messages IOOS is releasing to GTS.\n",
        "\n",
        "The first step is to pick the appropriate date range of interest."
      ]
    },
    {
      "cell_type": "code",
      "metadata": {
        "id": "em-Mxt5MrtWS",
        "outputId": "cdcb99d5-dc1f-41b0-b66f-a8ec486fa9a8",
        "colab": {
          "base_uri": "https://localhost:8080/",
          "height": 79,
          "referenced_widgets": [
            "97dd2e8f963a4de8bfe42eb4728841e2",
            "311ea01509944416be80554b2b0a29cb",
            "240e10248b39428dbca4a67a9e6651f2",
            "5d1ed2a92b384e34a3ce0eb942d033cb",
            "2925c32b28014ed8bc26d841dfa624f5",
            "1d473d265d214049911179e90b525f58"
          ]
        }
      },
      "source": [
        "from datetime import date,timedelta\n",
        "import ipywidgets as widgets\n",
        "\n",
        "start_date = widgets.DatePicker(\n",
        "    description='Start Date',\n",
        "    disabled=False\n",
        ")\n",
        "\n",
        "end_date = widgets.DatePicker(\n",
        "    description='End Date',\n",
        "    disabled=False\n",
        ")\n",
        "\n",
        "display(start_date)\n",
        "display(end_date)"
      ],
      "execution_count": 1,
      "outputs": [
        {
          "output_type": "display_data",
          "data": {
            "application/vnd.jupyter.widget-view+json": {
              "model_id": "97dd2e8f963a4de8bfe42eb4728841e2",
              "version_minor": 0,
              "version_major": 2
            },
            "text/plain": [
              "DatePicker(value=None, description='Start Date')"
            ]
          },
          "metadata": {
            "tags": []
          }
        },
        {
          "output_type": "display_data",
          "data": {
            "application/vnd.jupyter.widget-view+json": {
              "model_id": "5d1ed2a92b384e34a3ce0eb942d033cb",
              "version_minor": 0,
              "version_major": 2
            },
            "text/plain": [
              "DatePicker(value=None, description='End Date')"
            ]
          },
          "metadata": {
            "tags": []
          }
        }
      ]
    },
    {
      "cell_type": "markdown",
      "metadata": {
        "id": "wgtBvHNmrtWU"
      },
      "source": [
        "Now we download the data. We will use an ERDDAP server that [hosts the CSV files](https://ferret.pmel.noaa.gov/generic/erddap/files/ioos_obs_counts/) with the ingest data."
      ]
    },
    {
      "cell_type": "code",
      "metadata": {
        "id": "kJjt1UkZrtWV",
        "outputId": "cf4e04cd-074a-47a6-dde5-1b6c515dee6a",
        "colab": {
          "base_uri": "https://localhost:8080/",
          "height": 479
        }
      },
      "source": [
        "import pandas as pd\n",
        "# example https://www.ndbc.noaa.gov/ioosstats/rpts/2021_03_ioos_regional.csv\n",
        "\n",
        "start = start_date.get_interact_value()\n",
        "end = end_date.get_interact_value()\n",
        "\n",
        "# build an array for days between dates\n",
        "date_array = (start + timedelta(days=x) for x in range(0, (end-start).days))\n",
        "\n",
        "# get a unique list of year-months for url build\n",
        "months=[]\n",
        "for date_object in date_array:\n",
        "    months.append(date_object.strftime(\"%Y-%m\"))\n",
        "months = sorted(set(months))\n",
        "\n",
        "df = pd.DataFrame(columns=['locationID', 'region', 'sponsor', 'met', 'wave'])\n",
        "for month in months:\n",
        "  url = 'https://www.ndbc.noaa.gov/ioosstats/rpts/%s_ioos_regional.csv' % month.replace(\"-\",\"_\")\n",
        "  print('Downloading %s' % url)\n",
        "  df1 = pd.read_csv(url)\n",
        "  df1['time (UTC)'] = pd.to_datetime(month)\n",
        "  df = pd.concat([df,df1])\n",
        "\n",
        "df"
      ],
      "execution_count": 2,
      "outputs": [
        {
          "output_type": "stream",
          "text": [
            "Downloading https://www.ndbc.noaa.gov/ioosstats/rpts/2021_01_ioos_regional.csv\n",
            "Downloading https://www.ndbc.noaa.gov/ioosstats/rpts/2021_02_ioos_regional.csv\n",
            "Downloading https://www.ndbc.noaa.gov/ioosstats/rpts/2021_03_ioos_regional.csv\n"
          ],
          "name": "stdout"
        },
        {
          "output_type": "execute_result",
          "data": {
            "text/html": [
              "<div>\n",
              "<style scoped>\n",
              "    .dataframe tbody tr th:only-of-type {\n",
              "        vertical-align: middle;\n",
              "    }\n",
              "\n",
              "    .dataframe tbody tr th {\n",
              "        vertical-align: top;\n",
              "    }\n",
              "\n",
              "    .dataframe thead th {\n",
              "        text-align: right;\n",
              "    }\n",
              "</style>\n",
              "<table border=\"1\" class=\"dataframe\">\n",
              "  <thead>\n",
              "    <tr style=\"text-align: right;\">\n",
              "      <th></th>\n",
              "      <th>locationID</th>\n",
              "      <th>region</th>\n",
              "      <th>sponsor</th>\n",
              "      <th>met</th>\n",
              "      <th>wave</th>\n",
              "      <th>time (UTC)</th>\n",
              "    </tr>\n",
              "  </thead>\n",
              "  <tbody>\n",
              "    <tr>\n",
              "      <th>0</th>\n",
              "      <td>46108</td>\n",
              "      <td>AOOS</td>\n",
              "      <td>ALASKA OCEAN OBSERVING SYSTEM</td>\n",
              "      <td>0</td>\n",
              "      <td>2962</td>\n",
              "      <td>2021-01-01</td>\n",
              "    </tr>\n",
              "    <tr>\n",
              "      <th>1</th>\n",
              "      <td>HAXA2</td>\n",
              "      <td>AOOS</td>\n",
              "      <td>MARINE EXCHANGE OF ALASKA</td>\n",
              "      <td>8774</td>\n",
              "      <td>0</td>\n",
              "      <td>2021-01-01</td>\n",
              "    </tr>\n",
              "    <tr>\n",
              "      <th>2</th>\n",
              "      <td>JMLA2</td>\n",
              "      <td>AOOS</td>\n",
              "      <td>MARINE EXCHANGE OF ALASKA</td>\n",
              "      <td>8772</td>\n",
              "      <td>0</td>\n",
              "      <td>2021-01-01</td>\n",
              "    </tr>\n",
              "    <tr>\n",
              "      <th>3</th>\n",
              "      <td>NKLA2</td>\n",
              "      <td>AOOS</td>\n",
              "      <td>MARINE EXCHANGE OF ALASKA</td>\n",
              "      <td>8614</td>\n",
              "      <td>0</td>\n",
              "      <td>2021-01-01</td>\n",
              "    </tr>\n",
              "    <tr>\n",
              "      <th>4</th>\n",
              "      <td>GIXA2</td>\n",
              "      <td>AOOS</td>\n",
              "      <td>MARINE EXCHANGE OF ALASKA</td>\n",
              "      <td>8782</td>\n",
              "      <td>0</td>\n",
              "      <td>2021-01-01</td>\n",
              "    </tr>\n",
              "    <tr>\n",
              "      <th>...</th>\n",
              "      <td>...</td>\n",
              "      <td>...</td>\n",
              "      <td>...</td>\n",
              "      <td>...</td>\n",
              "      <td>...</td>\n",
              "      <td>...</td>\n",
              "    </tr>\n",
              "    <tr>\n",
              "      <th>149</th>\n",
              "      <td>SSBN7</td>\n",
              "      <td>SECOORA</td>\n",
              "      <td>COASTAL OCEAN RESEARCH AND MONITORING PROGRAM</td>\n",
              "      <td>0</td>\n",
              "      <td>1810</td>\n",
              "      <td>2021-03-01</td>\n",
              "    </tr>\n",
              "    <tr>\n",
              "      <th>150</th>\n",
              "      <td>41159</td>\n",
              "      <td>SECOORA</td>\n",
              "      <td>COASTAL OCEAN RESEARCH AND MONITORING PROGRAM</td>\n",
              "      <td>0</td>\n",
              "      <td>1570</td>\n",
              "      <td>2021-03-01</td>\n",
              "    </tr>\n",
              "    <tr>\n",
              "      <th>151</th>\n",
              "      <td>SIPF1</td>\n",
              "      <td>SECOORA</td>\n",
              "      <td>FLORIDA INSTITUTE OF TECHNOLOGY</td>\n",
              "      <td>3802</td>\n",
              "      <td>0</td>\n",
              "      <td>2021-03-01</td>\n",
              "    </tr>\n",
              "    <tr>\n",
              "      <th>152</th>\n",
              "      <td>42098</td>\n",
              "      <td>SECOORA</td>\n",
              "      <td>GREATER TAMPA BAY MARINE ADVISORY COUNCIL PORTS</td>\n",
              "      <td>0</td>\n",
              "      <td>1920</td>\n",
              "      <td>2021-03-01</td>\n",
              "    </tr>\n",
              "    <tr>\n",
              "      <th>153</th>\n",
              "      <td>44095</td>\n",
              "      <td>SECOORA</td>\n",
              "      <td>UNIVERSITY OF NORTH CAROLINA COASTAL STUDIES</td>\n",
              "      <td>0</td>\n",
              "      <td>1926</td>\n",
              "      <td>2021-03-01</td>\n",
              "    </tr>\n",
              "  </tbody>\n",
              "</table>\n",
              "<p>462 rows × 6 columns</p>\n",
              "</div>"
            ],
            "text/plain": [
              "    locationID   region  ...  wave time (UTC)\n",
              "0        46108     AOOS  ...  2962 2021-01-01\n",
              "1        HAXA2     AOOS  ...     0 2021-01-01\n",
              "2        JMLA2     AOOS  ...     0 2021-01-01\n",
              "3        NKLA2     AOOS  ...     0 2021-01-01\n",
              "4        GIXA2     AOOS  ...     0 2021-01-01\n",
              "..         ...      ...  ...   ...        ...\n",
              "149      SSBN7  SECOORA  ...  1810 2021-03-01\n",
              "150      41159  SECOORA  ...  1570 2021-03-01\n",
              "151      SIPF1  SECOORA  ...     0 2021-03-01\n",
              "152      42098  SECOORA  ...  1920 2021-03-01\n",
              "153      44095  SECOORA  ...  1926 2021-03-01\n",
              "\n",
              "[462 rows x 6 columns]"
            ]
          },
          "metadata": {
            "tags": []
          },
          "execution_count": 2
        }
      ]
    },
    {
      "cell_type": "code",
      "metadata": {
        "id": "N3jFAjCvrtWV",
        "outputId": "67f46110-d8da-4e4f-846d-2e6eb914ecea",
        "colab": {
          "base_uri": "https://localhost:8080/"
        }
      },
      "source": [
        "#df = e.to_pandas(parse_dates=True)\n",
        "\n",
        "df[\"locationID\"] = df[\"locationID\"].str.lower()\n",
        "\n",
        "df['time (UTC)'].unique()"
      ],
      "execution_count": 3,
      "outputs": [
        {
          "output_type": "execute_result",
          "data": {
            "text/plain": [
              "array(['2021-01-01T00:00:00.000000000', '2021-02-01T00:00:00.000000000',\n",
              "       '2021-03-01T00:00:00.000000000'], dtype='datetime64[ns]')"
            ]
          },
          "metadata": {
            "tags": []
          },
          "execution_count": 3
        }
      ]
    },
    {
      "cell_type": "markdown",
      "metadata": {
        "id": "WnuNU5eHrtWW"
      },
      "source": [
        "The table has all the ingest data. We can now explore it grouping the data by IOOS Regional Association (RA)."
      ]
    },
    {
      "cell_type": "code",
      "metadata": {
        "id": "ZdGeaMPfrtWW",
        "outputId": "bac7f035-5cf8-4178-fc10-23d3bd22cf76",
        "colab": {
          "base_uri": "https://localhost:8080/",
          "height": 311
        }
      },
      "source": [
        "groups = df.groupby(\"region\")\n",
        "\n",
        "ax = groups.sum().plot(kind=\"bar\", figsize=(11, 3.75))\n",
        "ax.yaxis.get_major_formatter().set_scientific(False)\n",
        "ax.set_ylabel(\"# observations\");"
      ],
      "execution_count": 4,
      "outputs": [
        {
          "output_type": "display_data",
          "data": {
            "image/png": "[encoded data removed]",
            "text/plain": [
              "<Figure size 792x270 with 1 Axes>"
            ]
          },
          "metadata": {
            "tags": [],
            "needs_background": "light"
          }
        }
      ]
    },
    {
      "cell_type": "markdown",
      "metadata": {
        "id": "5oP7aFrErtWX"
      },
      "source": [
        "Let us check the montly sum of data released both for individual met and wave and the totals."
      ]
    },
    {
      "cell_type": "code",
      "metadata": {
        "id": "keIBv28trtWX"
      },
      "source": [
        "import pandas as pd\n",
        "\n",
        "df[\"time (UTC)\"] = pd.to_datetime(df[\"time (UTC)\"])\n",
        "# Remove time-zone info for easier plotting, it is all UTC.\n",
        "df[\"time (UTC)\"] = df[\"time (UTC)\"].dt.tz_localize(None)\n",
        "\n",
        "groups = df.groupby(pd.Grouper(key=\"time (UTC)\", freq=\"M\"))"
      ],
      "execution_count": 5,
      "outputs": []
    },
    {
      "cell_type": "markdown",
      "metadata": {
        "id": "9_iEHmiTrtWY"
      },
      "source": [
        "We can create a table of observations per month,"
      ]
    },
    {
      "cell_type": "code",
      "metadata": {
        "id": "JxcIjc05rtWY",
        "outputId": "e6e40bcc-9154-41ba-f0ff-66a3ad338b0b",
        "colab": {
          "base_uri": "https://localhost:8080/"
        }
      },
      "source": [
        "s = groups[['time (UTC)','met','wave']].sum() # reducing the columns so the summary is digestable\n",
        "totals = s.assign(total=s[\"met\"] + s[\"wave\"])\n",
        "totals.index = totals.index.to_period(\"M\")\n",
        "\n",
        "print('Monthly totals:\\n',totals,'\\n')\n",
        "\n",
        "print('Sum for time period %s to %s: %i'%(totals.index.min(),totals.index.max(),totals['total'].sum()))"
      ],
      "execution_count": 6,
      "outputs": [
        {
          "output_type": "stream",
          "text": [
            "Monthly totals:\n",
            "                met   wave   total\n",
            "time (UTC)                       \n",
            "2021-01     819092  70784  889876\n",
            "2021-02     712442  61024  773466\n",
            "2021-03     530520  44916  575436 \n",
            "\n",
            "Sum for time period 2021-01 to 2021-03: 2238778\n"
          ],
          "name": "stdout"
        }
      ]
    },
    {
      "cell_type": "markdown",
      "metadata": {
        "id": "mkEpqlRLrtWZ"
      },
      "source": [
        "and visualize it in a bar plot."
      ]
    },
    {
      "cell_type": "code",
      "metadata": {
        "id": "WEz1GN6zrtWZ",
        "outputId": "334bdd93-79b6-4bff-fdcd-f0dca981bdb3",
        "colab": {
          "base_uri": "https://localhost:8080/",
          "height": 322
        }
      },
      "source": [
        "%matplotlib inline\n",
        "import matplotlib.dates as mdates\n",
        "import matplotlib.pyplot as plt\n",
        "\n",
        "fig, ax = plt.subplots(figsize=(11, 3.75))\n",
        "\n",
        "s.plot(ax=ax, kind=\"bar\")\n",
        "ax.set_xticklabels(\n",
        "    labels=s.index.to_series().dt.strftime(\"%Y-%b\"),\n",
        "    rotation=70,\n",
        "    rotation_mode=\"anchor\",\n",
        "    ha=\"right\",\n",
        ")\n",
        "ax.yaxis.get_major_formatter().set_scientific(False)\n",
        "ax.set_ylabel(\"# observations\")"
      ],
      "execution_count": 7,
      "outputs": [
        {
          "output_type": "execute_result",
          "data": {
            "text/plain": [
              "Text(0, 0.5, '# observations')"
            ]
          },
          "metadata": {
            "tags": []
          },
          "execution_count": 7
        },
        {
          "output_type": "display_data",
          "data": {
            "image/png": "[encoded data removed]",
            "text/plain": [
              "<Figure size 792x270 with 1 Axes>"
            ]
          },
          "metadata": {
            "tags": [],
            "needs_background": "light"
          }
        }
      ]
    },
    {
      "cell_type": "markdown",
      "metadata": {
        "id": "Pt3yasWfrtWa"
      },
      "source": [
        "Those plots are intersting to understand the RAs role in the GTS ingest and how much data is being released over time. It would be nice to see those per buoy on a map.\n",
        "\n",
        "For that we need to get the position of the NDBC buoys. Let's get a table of all the buoys and match with what we have in teh GTS data."
      ]
    },
    {
      "cell_type": "code",
      "metadata": {
        "scrolled": false,
        "id": "lTcddYcJrtWa",
        "outputId": "f5b69865-58ce-4199-f97b-4c3541da7f83",
        "colab": {
          "base_uri": "https://localhost:8080/",
          "height": 238
        }
      },
      "source": [
        "import xml.etree.ElementTree as et\n",
        "\n",
        "import pandas as pd\n",
        "import requests\n",
        "\n",
        "\n",
        "def make_ndbc_table():\n",
        "    url = \"https://www.ndbc.noaa.gov/activestations.xml\"\n",
        "    with requests.get(url) as r:\n",
        "        elems = et.fromstring(r.content)\n",
        "    df = pd.DataFrame([elem.attrib for elem in list(elems)])\n",
        "    df[\"id\"] = df[\"id\"].str.lower()\n",
        "    return df.set_index(\"id\")\n",
        "\n",
        "\n",
        "buoys = make_ndbc_table()\n",
        "buoys[\"lon\"] = buoys[\"lon\"].astype(float)\n",
        "buoys[\"lat\"] = buoys[\"lat\"].astype(float)\n",
        "\n",
        "buoys.head()"
      ],
      "execution_count": 8,
      "outputs": [
        {
          "output_type": "execute_result",
          "data": {
            "text/html": [
              "<div>\n",
              "<style scoped>\n",
              "    .dataframe tbody tr th:only-of-type {\n",
              "        vertical-align: middle;\n",
              "    }\n",
              "\n",
              "    .dataframe tbody tr th {\n",
              "        vertical-align: top;\n",
              "    }\n",
              "\n",
              "    .dataframe thead th {\n",
              "        text-align: right;\n",
              "    }\n",
              "</style>\n",
              "<table border=\"1\" class=\"dataframe\">\n",
              "  <thead>\n",
              "    <tr style=\"text-align: right;\">\n",
              "      <th></th>\n",
              "      <th>lat</th>\n",
              "      <th>lon</th>\n",
              "      <th>name</th>\n",
              "      <th>owner</th>\n",
              "      <th>pgm</th>\n",
              "      <th>type</th>\n",
              "      <th>met</th>\n",
              "      <th>currents</th>\n",
              "      <th>waterquality</th>\n",
              "      <th>dart</th>\n",
              "      <th>elev</th>\n",
              "      <th>seq</th>\n",
              "    </tr>\n",
              "    <tr>\n",
              "      <th>id</th>\n",
              "      <th></th>\n",
              "      <th></th>\n",
              "      <th></th>\n",
              "      <th></th>\n",
              "      <th></th>\n",
              "      <th></th>\n",
              "      <th></th>\n",
              "      <th></th>\n",
              "      <th></th>\n",
              "      <th></th>\n",
              "      <th></th>\n",
              "      <th></th>\n",
              "    </tr>\n",
              "  </thead>\n",
              "  <tbody>\n",
              "    <tr>\n",
              "      <th>00922</th>\n",
              "      <td>30.0</td>\n",
              "      <td>-90.0</td>\n",
              "      <td>OTN201 - 4800922</td>\n",
              "      <td>Dalhousie University</td>\n",
              "      <td>IOOS Partners</td>\n",
              "      <td>other</td>\n",
              "      <td>n</td>\n",
              "      <td>n</td>\n",
              "      <td>n</td>\n",
              "      <td>n</td>\n",
              "      <td>NaN</td>\n",
              "      <td>NaN</td>\n",
              "    </tr>\n",
              "    <tr>\n",
              "      <th>00923</th>\n",
              "      <td>30.0</td>\n",
              "      <td>-90.0</td>\n",
              "      <td>OTN200 - 4800923</td>\n",
              "      <td>Dalhousie University</td>\n",
              "      <td>IOOS Partners</td>\n",
              "      <td>other</td>\n",
              "      <td>n</td>\n",
              "      <td>n</td>\n",
              "      <td>n</td>\n",
              "      <td>n</td>\n",
              "      <td>NaN</td>\n",
              "      <td>NaN</td>\n",
              "    </tr>\n",
              "    <tr>\n",
              "      <th>01500</th>\n",
              "      <td>30.0</td>\n",
              "      <td>-90.0</td>\n",
              "      <td>SP031 - 3801500</td>\n",
              "      <td>SCRIPPS</td>\n",
              "      <td>IOOS Partners</td>\n",
              "      <td>other</td>\n",
              "      <td>n</td>\n",
              "      <td>n</td>\n",
              "      <td>n</td>\n",
              "      <td>n</td>\n",
              "      <td>NaN</td>\n",
              "      <td>NaN</td>\n",
              "    </tr>\n",
              "    <tr>\n",
              "      <th>01502</th>\n",
              "      <td>30.0</td>\n",
              "      <td>-90.0</td>\n",
              "      <td>Penobscot - 4801502</td>\n",
              "      <td>University of Maine</td>\n",
              "      <td>IOOS Partners</td>\n",
              "      <td>other</td>\n",
              "      <td>n</td>\n",
              "      <td>n</td>\n",
              "      <td>n</td>\n",
              "      <td>n</td>\n",
              "      <td>NaN</td>\n",
              "      <td>NaN</td>\n",
              "    </tr>\n",
              "    <tr>\n",
              "      <th>01503</th>\n",
              "      <td>30.0</td>\n",
              "      <td>-90.0</td>\n",
              "      <td>Saul - 4801503</td>\n",
              "      <td>Woods Hole Oceanographic Institution</td>\n",
              "      <td>IOOS Partners</td>\n",
              "      <td>other</td>\n",
              "      <td>n</td>\n",
              "      <td>n</td>\n",
              "      <td>n</td>\n",
              "      <td>n</td>\n",
              "      <td>NaN</td>\n",
              "      <td>NaN</td>\n",
              "    </tr>\n",
              "  </tbody>\n",
              "</table>\n",
              "</div>"
            ],
            "text/plain": [
              "        lat   lon                 name  ... dart elev  seq\n",
              "id                                      ...               \n",
              "00922  30.0 -90.0     OTN201 - 4800922  ...    n  NaN  NaN\n",
              "00923  30.0 -90.0     OTN200 - 4800923  ...    n  NaN  NaN\n",
              "01500  30.0 -90.0      SP031 - 3801500  ...    n  NaN  NaN\n",
              "01502  30.0 -90.0  Penobscot - 4801502  ...    n  NaN  NaN\n",
              "01503  30.0 -90.0       Saul - 4801503  ...    n  NaN  NaN\n",
              "\n",
              "[5 rows x 12 columns]"
            ]
          },
          "metadata": {
            "tags": []
          },
          "execution_count": 8
        }
      ]
    },
    {
      "cell_type": "markdown",
      "metadata": {
        "id": "WxMZlZVdrtWa"
      },
      "source": [
        "For simplificty we will plot the total of observations per buoys."
      ]
    },
    {
      "cell_type": "code",
      "metadata": {
        "id": "cDqw1MNzrtWa"
      },
      "source": [
        "groups = df.groupby(\"locationID\")\n",
        "location_sum = groups.sum()"
      ],
      "execution_count": 9,
      "outputs": []
    },
    {
      "cell_type": "code",
      "metadata": {
        "id": "iZHCo1MartWa"
      },
      "source": [
        "buoys = buoys.T\n",
        "\n",
        "extra_cols = pd.DataFrame({k: buoys.get(k) for k, row in location_sum.iterrows()}).T\n",
        "extra_cols = extra_cols[[\"lat\", \"lon\", \"type\", \"pgm\", \"name\"]]\n",
        "\n",
        "map_df = pd.concat([location_sum, extra_cols], axis=1)\n",
        "map_df = map_df.loc[map_df[\"met\"] + map_df[\"wave\"] > 0]"
      ],
      "execution_count": 10,
      "outputs": []
    },
    {
      "cell_type": "markdown",
      "metadata": {
        "id": "hEMYsV5LrtWb"
      },
      "source": [
        "And now we can overlay an HTML table with the buoy information and ingest data totals."
      ]
    },
    {
      "cell_type": "code",
      "metadata": {
        "id": "IMXl4O1ErtWb",
        "outputId": "4625a75a-ca16-4439-e71c-17899ad2ecf6",
        "colab": {
          "base_uri": "https://localhost:8080/",
          "height": 17,
          "referenced_widgets": [
            "4d3aa37e54294878bd49e1c1ed36f191"
          ]
        }
      },
      "source": [
        "from ipyleaflet import AwesomeIcon, Marker, Map, LegendControl, FullScreenControl, Popup\n",
        "from ipywidgets import HTML\n",
        "\n",
        "\n",
        "m = Map(center=(35, -95), zoom=4)\n",
        "m.add_control(FullScreenControl())\n",
        "\n",
        "legend = LegendControl(\n",
        "    {\n",
        "        \"wave\": \"#FF0000\",\n",
        "        \"met\": \"#FFA500\",\n",
        "        \"both\": \"#008000\"\n",
        "    },\n",
        "    name=\"GTS\",\n",
        "    position=\"bottomright\",\n",
        ")\n",
        "m.add_control(legend)\n",
        "\n",
        "\n",
        "def make_popup(row):\n",
        "    classes = \"table table-striped table-hover table-condensed table-responsive\"\n",
        "    return pd.DataFrame(row[[\"met\", \"wave\", \"type\", \"name\", \"pgm\"]]).to_html(\n",
        "        classes=classes\n",
        "    )\n",
        "\n",
        "for k, row in map_df.iterrows():\n",
        "    if (row[\"met\"] + row[\"wave\"]) > 0:\n",
        "        location = row[\"lat\"], row[\"lon\"]\n",
        "        if row[\"met\"] == 0:\n",
        "            color = \"red\"\n",
        "        elif row[\"wave\"] == 0:\n",
        "            color = \"orange\"\n",
        "        else:\n",
        "            color = \"green\"\n",
        "        marker = Marker(\n",
        "            draggable=False,\n",
        "            icon=AwesomeIcon(name=\"life-ring\", marker_color=color),\n",
        "            location=location,\n",
        "        )\n",
        "        msg = HTML()\n",
        "        msg.value = make_popup(row)\n",
        "        marker.popup = msg\n",
        "        m.add_layer(marker)\n",
        "m"
      ],
      "execution_count": 11,
      "outputs": [
        {
          "output_type": "display_data",
          "data": {
            "application/vnd.jupyter.widget-view+json": {
              "model_id": "4d3aa37e54294878bd49e1c1ed36f191",
              "version_minor": 0,
              "version_major": 2
            },
            "text/plain": [
              "Map(center=[35, -95], controls=(ZoomControl(options=['position', 'zoom_in_text', 'zoom_in_title', 'zoom_out_te…"
            ]
          },
          "metadata": {
            "tags": []
          }
        }
      ]
    },
    {
      "cell_type": "code",
      "metadata": {
        "id": "3QTkEyXprtWb"
      },
      "source": [
        ""
      ],
      "execution_count": null,
      "outputs": []
    },
    {
      "cell_type": "code",
      "metadata": {
        "id": "gSJTA_WDsxt2"
      },
      "source": [
        ""
      ],
      "execution_count": null,
      "outputs": []
    }
  ]
}