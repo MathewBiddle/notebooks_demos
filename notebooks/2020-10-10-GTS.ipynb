{
  "nbformat": 4,
  "nbformat_minor": 0,
  "metadata": {
    "kernelspec": {
      "display_name": "Python 3",
      "language": "python",
      "name": "python3"
    },
    "language_info": {
      "codemirror_mode": {
        "name": "ipython",
        "version": 3
      },
      "file_extension": ".py",
      "mimetype": "text/x-python",
      "name": "python",
      "nbconvert_exporter": "python",
      "pygments_lexer": "ipython3",
      "version": "3.8.5"
    },
    "colab": {
      "name": "2020-10-10-GTS.ipynb",
      "provenance": [],
      "include_colab_link": true
    }
  },
  "cells": [
    {
      "cell_type": "markdown",
      "metadata": {
        "id": "view-in-github",
        "colab_type": "text"
      },
      "source": [
        "<a href=\"https://colab.research.google.com/github/MathewBiddle/notebooks_demos/blob/GTS_widgets/notebooks/2020-10-10-GTS.ipynb\" target=\"_parent\"><img src=\"https://colab.research.google.com/assets/colab-badge.svg\" alt=\"Open In Colab\"/></a>"
      ]
    },
    {
      "cell_type": "markdown",
      "metadata": {
        "id": "Po0C-dJCrtWM"
      },
      "source": [
        "# IOOS GTS Statistics\n",
        "\n",
        "\n",
        "The Global Telecommunication System (GTS) is a coordinated effort for rapid distribution of observations.\n",
        "The GTS monthly reports show the number of messages released to GTS for each station.\n",
        "The reports contain the following fields:\n",
        "\n",
        "- location ID: Identifier that station messages are released under to the GTS;\n",
        "- region: Designated IOOS Regional Association (only for IOOS regional report);\n",
        "- sponsor: Organization that owns and maintains the station;\n",
        "- Met: Total number of met messages released to the GTS\n",
        "- Wave: Total number of wave messages released to the GTS\n",
        "\n",
        "In this notebook we will explore the statistics of the messages IOOS is releasing to GTS.\n",
        "\n",
        "The first step is to pick the appropriate date range of interest."
      ]
    },
    {
      "cell_type": "code",
      "metadata": {
        "id": "em-Mxt5MrtWS"
      },
      "source": [
        "import datetime as dt\n",
        "import ipywidgets as widgets\n",
        "\n",
        "start_date = widgets.DatePicker(\n",
        "    description='Start Date',\n",
        "    value=dt.datetime.strptime('2018-01-01','%Y-%m-%d'),\n",
        "    disabled=False\n",
        ")\n",
        "\n",
        "end_date = widgets.DatePicker(\n",
        "    description='End Date',\n",
        "    disabled=False\n",
        ")\n",
        "\n",
        "display(start_date)\n",
        "display(end_date)"
      ],
      "execution_count": null,
      "outputs": []
    },
    {
      "cell_type": "markdown",
      "metadata": {
        "id": "wgtBvHNmrtWU"
      },
      "source": [
        "Now we download the data. We will use an ERDDAP server that [hosts the CSV files](https://www.ndbc.noaa.gov/ioosstats/) with the ingest data."
      ]
    },
    {
      "cell_type": "code",
      "metadata": {
        "id": "kJjt1UkZrtWV"
      },
      "source": [
        "import pandas as pd\n",
        "# example https://www.ndbc.noaa.gov/ioosstats/rpts/2021_03_ioos_regional.csv\n",
        "\n",
        "start = start_date.get_interact_value()\n",
        "end = end_date.get_interact_value()\n",
        "\n",
        "# build an array for days between dates\n",
        "date_array = (start + timedelta(days=x) for x in range(0, (end-start).days))\n",
        "\n",
        "# get a unique list of year-months for url build\n",
        "months=[]\n",
        "for date_object in date_array:\n",
        "    months.append(date_object.strftime(\"%Y-%m\"))\n",
        "months = sorted(set(months))\n",
        "\n",
        "df = pd.DataFrame(columns=['locationID', 'region', 'sponsor', 'met', 'wave'])\n",
        "for month in months:\n",
        "  url = 'https://www.ndbc.noaa.gov/ioosstats/rpts/%s_ioos_regional.csv' % month.replace(\"-\",\"_\")\n",
        "  print('Downloading %s' % url)\n",
        "  df1 = pd.read_csv(url)\n",
        "  df1['time (UTC)'] = pd.to_datetime(month)\n",
        "  df = pd.concat([df,df1])\n",
        "\n",
        "df"
      ],
      "execution_count": null,
      "outputs": []
    },
    {
      "cell_type": "code",
      "metadata": {
        "id": "N3jFAjCvrtWV"
      },
      "source": [
        "#df = e.to_pandas(parse_dates=True)\n",
        "\n",
        "df[\"locationID\"] = df[\"locationID\"].str.lower()\n",
        "\n",
        "df['time (UTC)'].unique()"
      ],
      "execution_count": null,
      "outputs": []
    },
    {
      "cell_type": "markdown",
      "metadata": {
        "id": "WnuNU5eHrtWW"
      },
      "source": [
        "The table has all the ingest data. We can now explore it grouping the data by IOOS Regional Association (RA)."
      ]
    },
    {
      "cell_type": "code",
      "metadata": {
        "id": "ZdGeaMPfrtWW"
      },
      "source": [
        "groups = df.groupby(\"region\")\n",
        "\n",
        "ax = groups.sum().plot(kind=\"bar\", figsize=(11, 3.75))\n",
        "ax.yaxis.get_major_formatter().set_scientific(False)\n",
        "ax.set_ylabel(\"# observations\");"
      ],
      "execution_count": null,
      "outputs": []
    },
    {
      "cell_type": "markdown",
      "metadata": {
        "id": "5oP7aFrErtWX"
      },
      "source": [
        "Let us check the montly sum of data released both for individual met and wave and the totals."
      ]
    },
    {
      "cell_type": "code",
      "metadata": {
        "id": "keIBv28trtWX"
      },
      "source": [
        "import pandas as pd\n",
        "\n",
        "df[\"time (UTC)\"] = pd.to_datetime(df[\"time (UTC)\"])\n",
        "# Remove time-zone info for easier plotting, it is all UTC.\n",
        "df[\"time (UTC)\"] = df[\"time (UTC)\"].dt.tz_localize(None)\n",
        "\n",
        "groups = df.groupby(pd.Grouper(key=\"time (UTC)\", freq=\"M\"))"
      ],
      "execution_count": null,
      "outputs": []
    },
    {
      "cell_type": "markdown",
      "metadata": {
        "id": "9_iEHmiTrtWY"
      },
      "source": [
        "We can create a table of observations per month,"
      ]
    },
    {
      "cell_type": "code",
      "metadata": {
        "id": "JxcIjc05rtWY"
      },
      "source": [
        "s = groups[['time (UTC)','met','wave']].sum() # reducing the columns so the summary is digestable\n",
        "totals = s.assign(total=s[\"met\"] + s[\"wave\"])\n",
        "totals.index = totals.index.to_period(\"M\")\n",
        "\n",
        "print('Monthly totals:\\n',totals,'\\n')\n",
        "\n",
        "print('Sum for time period %s to %s: %i'%(totals.index.min(),totals.index.max(),totals['total'].sum()))"
      ],
      "execution_count": null,
      "outputs": []
    },
    {
      "cell_type": "markdown",
      "metadata": {
        "id": "mkEpqlRLrtWZ"
      },
      "source": [
        "and visualize it in a bar plot."
      ]
    },
    {
      "cell_type": "code",
      "metadata": {
        "id": "WEz1GN6zrtWZ"
      },
      "source": [
        "%matplotlib inline\n",
        "import matplotlib.dates as mdates\n",
        "import matplotlib.pyplot as plt\n",
        "\n",
        "fig, ax = plt.subplots(figsize=(11, 3.75))\n",
        "\n",
        "s.plot(ax=ax, kind=\"bar\")\n",
        "ax.set_xticklabels(\n",
        "    labels=s.index.to_series().dt.strftime(\"%Y-%b\"),\n",
        "    rotation=70,\n",
        "    rotation_mode=\"anchor\",\n",
        "    ha=\"right\",\n",
        ")\n",
        "ax.yaxis.get_major_formatter().set_scientific(False)\n",
        "ax.set_ylabel(\"# observations\")"
      ],
      "execution_count": null,
      "outputs": []
    },
    {
      "cell_type": "markdown",
      "metadata": {
        "id": "Pt3yasWfrtWa"
      },
      "source": [
        "Those plots are intersting to understand the RAs role in the GTS ingest and how much data is being released over time. It would be nice to see those per buoy on a map.\n",
        "\n",
        "For that we need to get the position of the NDBC buoys. Let's get a table of all the buoys and match with what we have in teh GTS data."
      ]
    },
    {
      "cell_type": "code",
      "metadata": {
        "scrolled": false,
        "id": "lTcddYcJrtWa"
      },
      "source": [
        "import xml.etree.ElementTree as et\n",
        "\n",
        "import pandas as pd\n",
        "import requests\n",
        "\n",
        "\n",
        "def make_ndbc_table():\n",
        "    url = \"https://www.ndbc.noaa.gov/activestations.xml\"\n",
        "    with requests.get(url) as r:\n",
        "        elems = et.fromstring(r.content)\n",
        "    df = pd.DataFrame([elem.attrib for elem in list(elems)])\n",
        "    df[\"id\"] = df[\"id\"].str.lower()\n",
        "    return df.set_index(\"id\")\n",
        "\n",
        "\n",
        "buoys = make_ndbc_table()\n",
        "buoys[\"lon\"] = buoys[\"lon\"].astype(float)\n",
        "buoys[\"lat\"] = buoys[\"lat\"].astype(float)\n",
        "\n",
        "buoys.head()"
      ],
      "execution_count": null,
      "outputs": []
    },
    {
      "cell_type": "markdown",
      "metadata": {
        "id": "WxMZlZVdrtWa"
      },
      "source": [
        "For simplificty we will plot the total of observations per buoys."
      ]
    },
    {
      "cell_type": "code",
      "metadata": {
        "id": "cDqw1MNzrtWa"
      },
      "source": [
        "groups = df.groupby(\"locationID\")\n",
        "location_sum = groups.sum()"
      ],
      "execution_count": null,
      "outputs": []
    },
    {
      "cell_type": "code",
      "metadata": {
        "id": "iZHCo1MartWa"
      },
      "source": [
        "buoys = buoys.T\n",
        "\n",
        "extra_cols = pd.DataFrame({k: buoys.get(k) for k, row in location_sum.iterrows()}).T\n",
        "extra_cols = extra_cols[[\"lat\", \"lon\", \"type\", \"pgm\", \"name\"]]\n",
        "\n",
        "map_df = pd.concat([location_sum, extra_cols], axis=1)\n",
        "map_df = map_df.loc[map_df[\"met\"] + map_df[\"wave\"] > 0]"
      ],
      "execution_count": null,
      "outputs": []
    },
    {
      "cell_type": "markdown",
      "metadata": {
        "id": "hEMYsV5LrtWb"
      },
      "source": [
        "And now we can overlay an HTML table with the buoy information and ingest data totals."
      ]
    },
    {
      "cell_type": "code",
      "metadata": {
        "id": "IMXl4O1ErtWb"
      },
      "source": [
        "from ipyleaflet import AwesomeIcon, Marker, Map, LegendControl, FullScreenControl, Popup\n",
        "from ipywidgets import HTML\n",
        "\n",
        "\n",
        "m = Map(center=(35, -95), zoom=4)\n",
        "m.add_control(FullScreenControl())\n",
        "\n",
        "legend = LegendControl(\n",
        "    {\n",
        "        \"wave\": \"#FF0000\",\n",
        "        \"met\": \"#FFA500\",\n",
        "        \"both\": \"#008000\"\n",
        "    },\n",
        "    name=\"GTS\",\n",
        "    position=\"bottomright\",\n",
        ")\n",
        "m.add_control(legend)\n",
        "\n",
        "\n",
        "def make_popup(row):\n",
        "    classes = \"table table-striped table-hover table-condensed table-responsive\"\n",
        "    return pd.DataFrame(row[[\"met\", \"wave\", \"type\", \"name\", \"pgm\"]]).to_html(\n",
        "        classes=classes\n",
        "    )\n",
        "\n",
        "for k, row in map_df.iterrows():\n",
        "    if (row[\"met\"] + row[\"wave\"]) > 0:\n",
        "        location = row[\"lat\"], row[\"lon\"]\n",
        "        if row[\"met\"] == 0:\n",
        "            color = \"red\"\n",
        "        elif row[\"wave\"] == 0:\n",
        "            color = \"orange\"\n",
        "        else:\n",
        "            color = \"green\"\n",
        "        marker = Marker(\n",
        "            draggable=False,\n",
        "            icon=AwesomeIcon(name=\"life-ring\", marker_color=color),\n",
        "            location=location,\n",
        "        )\n",
        "        msg = HTML()\n",
        "        msg.value = make_popup(row)\n",
        "        marker.popup = msg\n",
        "        m.add_layer(marker)\n",
        "m"
      ],
      "execution_count": null,
      "outputs": []
    },
    {
      "cell_type": "code",
      "metadata": {
        "id": "3QTkEyXprtWb"
      },
      "source": [
        ""
      ],
      "execution_count": null,
      "outputs": []
    },
    {
      "cell_type": "code",
      "metadata": {
        "id": "gSJTA_WDsxt2"
      },
      "source": [
        ""
      ],
      "execution_count": null,
      "outputs": []
    }
  ]
}